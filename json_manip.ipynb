{
 "cells": [
  {
   "cell_type": "code",
   "execution_count": 1,
   "metadata": {},
   "outputs": [],
   "source": [
    "import json\n",
    "import cv2\n",
    "import numpy as np\n",
    "\n",
    "\n",
    "DEPTH_IMAGE = \"buffers/buffer0/depth/depth3.png\"\n",
    "KEYPOINT_FILE = \"buffers/buffer0/keypoints/color3_keypoints.json\"\n",
    "\n",
    "with open(KEYPOINT_FILE, 'r') as data_file:\n",
    "    keypoints = json.load(data_file)\n",
    "\n",
    "DEPTH_ARRAY = cv2.imread(DEPTH_IMAGE, 0)"
   ]
  },
  {
   "cell_type": "code",
   "execution_count": 2,
   "metadata": {
    "scrolled": false
   },
   "outputs": [],
   "source": [
    "for person in keypoints['people']:\n",
    "    # Suppress joint 14 to 17\n",
    "    person['pose_keypoints_2d'] = person['pose_keypoints_2d'][:3 * 14]\n",
    "    \n",
    "    # Fill the 3d keypoints field\n",
    "    for i, elem in enumerate(person['pose_keypoints_2d']):\n",
    "        if i % 3 == 2:\n",
    "            person['pose_keypoints_3d'].append(DEPTH_ARRAY[int(person['pose_keypoints_3d'][-2]),\n",
    "                                                           int(person['pose_keypoints_3d'][-1])])\n",
    "        person['pose_keypoints_3d'].append(elem)"
   ]
  },
  {
   "cell_type": "code",
   "execution_count": 5,
   "metadata": {},
   "outputs": [],
   "source": [
    "def default(o):\n",
    "    return int(o)\n",
    "\n",
    "with open(KEYPOINT_FILE + \"_new\", 'w') as outfile:\n",
    "    str_ = json.dumps(keypoints, indent=4, sort_keys=False, separators=(',', ': '), ensure_ascii=False, default=default)\n",
    "    outfile.write(str_)"
   ]
  },
  {
   "cell_type": "code",
   "execution_count": null,
   "metadata": {},
   "outputs": [],
   "source": []
  }
 ],
 "metadata": {
  "kernelspec": {
   "display_name": "Python 3",
   "language": "python",
   "name": "python3"
  },
  "language_info": {
   "codemirror_mode": {
    "name": "ipython",
    "version": 3
   },
   "file_extension": ".py",
   "mimetype": "text/x-python",
   "name": "python",
   "nbconvert_exporter": "python",
   "pygments_lexer": "ipython3",
   "version": "3.5.5"
  }
 },
 "nbformat": 4,
 "nbformat_minor": 2
}
